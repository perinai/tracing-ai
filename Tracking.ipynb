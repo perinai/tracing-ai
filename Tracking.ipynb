{
  "nbformat": 4,
  "nbformat_minor": 0,
  "metadata": {
    "colab": {
      "provenance": [],
      "authorship_tag": "ABX9TyPnQ9Z+Q5Wzqk0Cfcjulhcz",
      "include_colab_link": true
    },
    "kernelspec": {
      "name": "python3",
      "display_name": "Python 3"
    },
    "language_info": {
      "name": "python"
    }
  },
  "cells": [
    {
      "cell_type": "markdown",
      "metadata": {
        "id": "view-in-github",
        "colab_type": "text"
      },
      "source": [
        "<a href=\"https://colab.research.google.com/github/perinai/tracing-ai/blob/main/Tracking.ipynb\" target=\"_parent\"><img src=\"https://colab.research.google.com/assets/colab-badge.svg\" alt=\"Open In Colab\"/></a>"
      ]
    },
    {
      "cell_type": "code",
      "execution_count": 7,
      "metadata": {
        "colab": {
          "base_uri": "https://localhost:8080/"
        },
        "id": "-UmxC_tFMXMe",
        "outputId": "707ac788-26a4-41e9-b48b-39fa0702cb9a"
      },
      "outputs": [
        {
          "output_type": "stream",
          "name": "stdout",
          "text": [
            "Requirement already satisfied: flask in /usr/local/lib/python3.11/dist-packages (3.1.1)\n",
            "Requirement already satisfied: pandas in /usr/local/lib/python3.11/dist-packages (2.2.2)\n",
            "Requirement already satisfied: scikit-learn in /usr/local/lib/python3.11/dist-packages (1.6.1)\n",
            "Requirement already satisfied: joblib in /usr/local/lib/python3.11/dist-packages (1.5.1)\n",
            "Collecting pyngrok\n",
            "  Downloading pyngrok-7.2.11-py3-none-any.whl.metadata (9.4 kB)\n",
            "Requirement already satisfied: blinker>=1.9.0 in /usr/local/lib/python3.11/dist-packages (from flask) (1.9.0)\n",
            "Requirement already satisfied: click>=8.1.3 in /usr/local/lib/python3.11/dist-packages (from flask) (8.2.1)\n",
            "Requirement already satisfied: itsdangerous>=2.2.0 in /usr/local/lib/python3.11/dist-packages (from flask) (2.2.0)\n",
            "Requirement already satisfied: jinja2>=3.1.2 in /usr/local/lib/python3.11/dist-packages (from flask) (3.1.6)\n",
            "Requirement already satisfied: markupsafe>=2.1.1 in /usr/local/lib/python3.11/dist-packages (from flask) (3.0.2)\n",
            "Requirement already satisfied: werkzeug>=3.1.0 in /usr/local/lib/python3.11/dist-packages (from flask) (3.1.3)\n",
            "Requirement already satisfied: numpy>=1.23.2 in /usr/local/lib/python3.11/dist-packages (from pandas) (2.0.2)\n",
            "Requirement already satisfied: python-dateutil>=2.8.2 in /usr/local/lib/python3.11/dist-packages (from pandas) (2.9.0.post0)\n",
            "Requirement already satisfied: pytz>=2020.1 in /usr/local/lib/python3.11/dist-packages (from pandas) (2025.2)\n",
            "Requirement already satisfied: tzdata>=2022.7 in /usr/local/lib/python3.11/dist-packages (from pandas) (2025.2)\n",
            "Requirement already satisfied: scipy>=1.6.0 in /usr/local/lib/python3.11/dist-packages (from scikit-learn) (1.15.3)\n",
            "Requirement already satisfied: threadpoolctl>=3.1.0 in /usr/local/lib/python3.11/dist-packages (from scikit-learn) (3.6.0)\n",
            "Requirement already satisfied: PyYAML>=5.1 in /usr/local/lib/python3.11/dist-packages (from pyngrok) (6.0.2)\n",
            "Requirement already satisfied: six>=1.5 in /usr/local/lib/python3.11/dist-packages (from python-dateutil>=2.8.2->pandas) (1.17.0)\n",
            "Downloading pyngrok-7.2.11-py3-none-any.whl (25 kB)\n",
            "Installing collected packages: pyngrok\n",
            "Successfully installed pyngrok-7.2.11\n"
          ]
        }
      ],
      "source": [
        "# Cell 1: Setup (Corrected)\n",
        "!pip install flask pandas scikit-learn joblib pyngrok"
      ]
    },
    {
      "cell_type": "code",
      "source": [
        "# Cell 2: Data Generation and Preprocessing (Corrected)\n",
        "\n",
        "import pandas as pd\n",
        "import numpy as np\n",
        "\n",
        "# --- Data Generation Function ---\n",
        "def generate_health_data(records=1000):\n",
        "    # The 'blood_oxygen' line is corrected here\n",
        "    data = {\n",
        "        'timestamp': pd.to_datetime(np.arange(records) * 60, unit='s'),\n",
        "        'heart_rate': np.random.randint(60, 100, records),\n",
        "        'blood_oxygen': np.round(np.random.uniform(95, 100, records), 1), # CORRECTED\n",
        "        'activity_level': np.random.choice(['resting', 'walking', 'running'], records, p=[0.6, 0.3, 0.1])\n",
        "    }\n",
        "    df = pd.DataFrame(data)\n",
        "    # Inject Anomalies\n",
        "    for _ in range(int(records * 0.05)):\n",
        "        idx = np.random.randint(0, records)\n",
        "        df.loc[idx, 'heart_rate'] = np.random.randint(110, 150)\n",
        "    for _ in range(int(records * 0.05)):\n",
        "        idx = np.random.randint(0, records)\n",
        "        # The 'blood_oxygen' line is corrected here as well\n",
        "        df.loc[idx, 'blood_oxygen'] = round(np.random.uniform(85, 94), 1) # CORRECTED\n",
        "\n",
        "    return df\n",
        "\n",
        "# --- Data Preprocessing Function ---\n",
        "def preprocess_data(df):\n",
        "    df = pd.get_dummies(df, columns=['activity_level'], drop_first=True)\n",
        "    df['anomaly'] = ((df['heart_rate'] > 100) | (df['blood_oxygen'] < 95)).astype(int)\n",
        "    return df\n",
        "\n",
        "# --- Execute and Save ---\n",
        "raw_data = generate_health_data()\n",
        "processed_data = preprocess_data(raw_data)\n",
        "\n",
        "# Save the data to a file in the Colab environment\n",
        "processed_data.to_csv('health_data_processed.csv', index=False)\n",
        "\n",
        "print(\"Data generation and preprocessing complete.\")\n",
        "print(\"Created 'health_data_processed.csv' successfully.\")\n",
        "print(\"\\nProcessed Data Head:\")\n",
        "print(processed_data.head())"
      ],
      "metadata": {
        "colab": {
          "base_uri": "https://localhost:8080/"
        },
        "id": "3jjACIWHNF6c",
        "outputId": "1668b785-bc05-4cf9-9ccf-59be5c46a009"
      },
      "execution_count": 8,
      "outputs": [
        {
          "output_type": "stream",
          "name": "stdout",
          "text": [
            "Data generation and preprocessing complete.\n",
            "Created 'health_data_processed.csv' successfully.\n",
            "\n",
            "Processed Data Head:\n",
            "            timestamp  heart_rate  blood_oxygen  activity_level_running  \\\n",
            "0 1970-01-01 00:00:00          99          96.7                   False   \n",
            "1 1970-01-01 00:01:00          67          95.6                   False   \n",
            "2 1970-01-01 00:02:00          70          98.0                    True   \n",
            "3 1970-01-01 00:03:00          77          99.7                   False   \n",
            "4 1970-01-01 00:04:00          98          97.0                   False   \n",
            "\n",
            "   activity_level_walking  anomaly  \n",
            "0                   False        0  \n",
            "1                    True        0  \n",
            "2                   False        0  \n",
            "3                   False        0  \n",
            "4                    True        0  \n"
          ]
        }
      ]
    },
    {
      "cell_type": "code",
      "source": [
        "# Cell 3: AI Model Training and Saving\n",
        "\n",
        "import pandas as pd\n",
        "from sklearn.model_selection import train_test_split\n",
        "from sklearn.ensemble import RandomForestClassifier\n",
        "from sklearn.metrics import classification_report\n",
        "import joblib\n",
        "\n",
        "# 1. Load Data from the CSV we created\n",
        "df = pd.read_csv('health_data_processed.csv')\n",
        "\n",
        "# 2. Define Features (X) and Target (y)\n",
        "features = [col for col in df.columns if col not in ['timestamp', 'anomaly']]\n",
        "X = df[features]\n",
        "y = df['anomaly']\n",
        "\n",
        "# 3. Split Data\n",
        "X_train, X_test, y_train, y_test = train_test_split(X, y, test_size=0.2, random_state=42, stratify=y)\n",
        "\n",
        "# 4. Train the Model\n",
        "model = RandomForestClassifier(n_estimators=100, random_state=42, class_weight='balanced')\n",
        "model.fit(X_train, y_train)\n",
        "\n",
        "# 5. Evaluate the Model\n",
        "y_pred = model.predict(X_test)\n",
        "print(\"\\n--- Model Evaluation Report ---\")\n",
        "print(classification_report(y_test, y_pred, target_names=['Normal', 'Anomaly']))\n",
        "\n",
        "# 6. Save the Trained Model and Feature List\n",
        "joblib.dump(model, 'health_monitor_model.pkl')\n",
        "joblib.dump(features, 'model_features.pkl')\n",
        "\n",
        "print(\"\\nModel saved as 'health_monitor_model.pkl'\")\n",
        "print(\"Model features saved as 'model_features.pkl'\")"
      ],
      "metadata": {
        "colab": {
          "base_uri": "https://localhost:8080/"
        },
        "id": "dL6f0d2SNQZz",
        "outputId": "6ad16cca-e283-4550-b451-2523a99e31cf"
      },
      "execution_count": 9,
      "outputs": [
        {
          "output_type": "stream",
          "name": "stdout",
          "text": [
            "\n",
            "--- Model Evaluation Report ---\n",
            "              precision    recall  f1-score   support\n",
            "\n",
            "      Normal       1.00      1.00      1.00       180\n",
            "     Anomaly       1.00      1.00      1.00        20\n",
            "\n",
            "    accuracy                           1.00       200\n",
            "   macro avg       1.00      1.00      1.00       200\n",
            "weighted avg       1.00      1.00      1.00       200\n",
            "\n",
            "\n",
            "Model saved as 'health_monitor_model.pkl'\n",
            "Model features saved as 'model_features.pkl'\n"
          ]
        }
      ]
    },
    {
      "cell_type": "markdown",
      "source": [
        "2y8Or6Scruc6QeqpJqcZtKq4XAD_4Rkkjkjk9WdMyUsujecrN"
      ],
      "metadata": {
        "id": "qB5X7LbJO1Zt"
      }
    },
    {
      "cell_type": "code",
      "source": [
        "# Cell 4: Build and Run the Web App with pyngrok (Corrected and More Robust)\n",
        "\n",
        "import os\n",
        "import threading\n",
        "from flask import Flask, request, render_template\n",
        "from pyngrok import ngrok\n",
        "import pandas as pd\n",
        "import joblib\n",
        "\n",
        "# --- Create HTML files first (no changes here) ---\n",
        "if not os.path.exists('templates'):\n",
        "    os.makedirs('templates')\n",
        "\n",
        "index_html = \"\"\"\n",
        "<!doctype html>\n",
        "<html lang=\"en\"><head><title>Health Monitor</title><style>body{font-family:sans-serif;margin:2em;background-color:#f4f4f9;}h1{color:#333;}form{display:flex;flex-direction:column;width:300px;padding:20px;background:white;border-radius:8px;box-shadow:0 4px 6px rgba(0,0,0,0.1);}label,input,select{margin-bottom:12px;font-size:1.1em;}input,select{padding:8px;border:1px solid #ccc;border-radius:4px;}input[type=submit]{background-color:#007BFF;color:white;padding:12px;border:none;cursor:pointer;font-weight:bold;}input[type=submit]:hover{background-color:#0056b3;}</style></head><body><h1>Enter Your Health Metrics</h1><form action=\"/predict\" method=\"post\"><label for=\"heart_rate\">Heart Rate (bpm):</label><input type=\"number\" id=\"heart_rate\" name=\"heart_rate\" required value=\"75\"><label for=\"blood_oxygen\">Blood Oxygen (%):</label><input type=\"number\" step=\"0.1\" id=\"blood_oxygen\" name=\"blood_oxygen\" required value=\"98\"><label for=\"activity_level\">Current Activity:</label><select id=\"activity_level\" name=\"activity_level\"><option value=\"resting\">Resting</option><option value=\"walking\">Walking</option><option value=\"running\">Running</option></select><input type=\"submit\" value=\"Analyze My Health\"></form></body></html>\n",
        "\"\"\"\n",
        "with open(\"templates/index.html\", \"w\") as f:\n",
        "    f.write(index_html)\n",
        "\n",
        "result_html = \"\"\"\n",
        "<!doctype html>\n",
        "<html lang=\"en\"><head><title>Health Result</title><style>body{font-family:sans-serif;margin:2em;background-color:#f4f4f9;text-align:center;}.result-box{padding:30px;margin:auto;max-width:500px;border-radius:10px;color:white;box-shadow:0 4px 6px rgba(0,0,0,0.1);}.normal{background-color:#28a745;}.anomaly{background-color:#dc3545;}a{display:inline-block;margin-top:20px;padding:10px 20px;background-color:#6c757d;color:white;text-decoration:none;border-radius:4px;}a:hover{background-color:#5a6268;}</style></head><body><h1>Analysis Result</h1><div class=\"result-box {{ status_class }}\"><h2>Status: {{ status }}</h2><p>{{ recommendation }}</p></div><br><a href=\"/\">Check Again</a></body></html>\n",
        "\"\"\"\n",
        "with open(\"templates/result.html\", \"w\") as f:\n",
        "    f.write(result_html)\n",
        "\n",
        "\n",
        "# --- Define the Flask App ---\n",
        "app = Flask(__name__)\n",
        "\n",
        "# Load the trained model and features\n",
        "model = joblib.load('health_monitor_model.pkl')\n",
        "model_features = joblib.load('model_features.pkl')\n",
        "\n",
        "@app.route('/')\n",
        "def home():\n",
        "    return render_template('index.html')\n",
        "\n",
        "@app.route('/predict', methods=['POST'])\n",
        "def predict():\n",
        "    user_input = {\n",
        "        'heart_rate': [float(request.form['heart_rate'])],\n",
        "        'blood_oxygen': [float(request.form['blood_oxygen'])],\n",
        "        'activity_level_running': [1 if request.form['activity_level'] == 'running' else 0],\n",
        "        'activity_level_walking': [1 if request.form['activity_level'] == 'walking' else 0]\n",
        "    }\n",
        "    input_df = pd.DataFrame(user_input)\n",
        "    final_df = input_df.reindex(columns=model_features, fill_value=0)\n",
        "\n",
        "    prediction = model.predict(final_df)[0]\n",
        "    proba = model.predict_proba(final_df)[0]\n",
        "\n",
        "    if prediction == 1:\n",
        "        status, status_class = \"Anomaly Detected\", \"anomaly\"\n",
        "        recommendation = f\"Warning: Metrics are unusual (Confidence: {proba[1]*100:.0f}%). Consider resting.\"\n",
        "    else:\n",
        "        status, status_class = \"Normal\", \"normal\"\n",
        "        recommendation = f\"Metrics appear normal (Confidence: {proba[0]*100:.0f}%). Keep it up!\"\n",
        "\n",
        "    return render_template('result.html', status=status, recommendation=recommendation, status_class=status_class)\n",
        "\n",
        "\n",
        "# --- Setup ngrok and run the app ---\n",
        "# Replace with your actual authtoken from the ngrok dashboard\n",
        "NGROK_AUTHTOKEN = \"2y8Or6Scruc6QeqpJqcZtKq4XAD_4Rkkjkjk9WdMyUsujecrN\"\n",
        "\n",
        "# Authenticate ngrok\n",
        "ngrok.set_auth_token(NGROK_AUTHTOKEN)\n",
        "\n",
        "# Start ngrok tunnel and get the public URL\n",
        "public_url = ngrok.connect(5000)\n",
        "print(f\" * Tunnel URL: {public_url}\")\n",
        "\n",
        "# Start the Flask app in a new thread\n",
        "threading.Thread(target=app.run, kwargs={\"host\": \"0.0.0.0\", \"port\": 5000}).start()"
      ],
      "metadata": {
        "colab": {
          "base_uri": "https://localhost:8080/"
        },
        "id": "AwYFjzQ8RpnK",
        "outputId": "ab8852bc-1c97-4cc1-e05b-ca75cc3f6c25"
      },
      "execution_count": 10,
      "outputs": [
        {
          "output_type": "stream",
          "name": "stdout",
          "text": [
            " * Tunnel URL: NgrokTunnel: \"https://7b07-34-66-26-193.ngrok-free.app\" -> \"http://localhost:5000\"\n",
            " * Serving Flask app '__main__'\n",
            " * Debug mode: off\n"
          ]
        }
      ]
    }
  ]
}